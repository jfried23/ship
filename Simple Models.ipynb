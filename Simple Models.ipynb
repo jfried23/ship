{
 "cells": [
  {
   "cell_type": "code",
   "execution_count": 352,
   "metadata": {},
   "outputs": [],
   "source": [
    "%matplotlib inline\n",
    "\n",
    "import pandas as pd\n",
    "import numpy as np\n",
    "import matplotlib.pyplot as plt\n",
    "from sklearn import preprocessing, linear_model, model_selection, pipeline, decomposition, tree, svm"
   ]
  },
  {
   "cell_type": "code",
   "execution_count": 353,
   "metadata": {},
   "outputs": [
    {
     "data": {
      "text/plain": [
       "{0: 'Time',\n",
       " 1: 'Main Engine Fuel Consumption (MT/day)',\n",
       " 2: 'Main Engine Using HFO (bool)',\n",
       " 3: 'Main Engine Using MGO (bool)',\n",
       " 4: 'Draft Forward (meters)',\n",
       " 5: 'Draft Aft (meters)',\n",
       " 6: 'Draft Mid-1 (meters)',\n",
       " 7: 'Draft Mid-2 (meters)',\n",
       " 8: 'Shaft Speed (RPM)',\n",
       " 9: 'Shaft Torque (kNm)',\n",
       " 10: 'Shaft Power (kW)',\n",
       " 11: 'Speed Over Ground (knots)',\n",
       " 12: 'Speed Through Water (knots)',\n",
       " 13: 'Heading (degrees)',\n",
       " 14: 'Rudder Angle (degrees)',\n",
       " 15: 'Weather Service Apparent Wind Speed (knots)',\n",
       " 16: 'Weather Service Apparent Wind Direction (degrees from bow)',\n",
       " 17: 'Weather Service True Wind Speed (knots)',\n",
       " 18: 'Weather Service True Wind Direction (degrees from north)',\n",
       " 19: 'Weather Service Temperature (celsius)',\n",
       " 20: 'Water Depth (meters)',\n",
       " 21: 'datetime',\n",
       " 22: 'contig',\n",
       " 23: 'trip',\n",
       " 24: 'heading_delta',\n",
       " 25: 'active',\n",
       " 26: 'trim',\n",
       " 27: 'rudder',\n",
       " 28: 'depth',\n",
       " 29: 'current',\n",
       " 30: 'bowWind_sine',\n",
       " 31: 'bowWind_cos',\n",
       " 32: 'heading_delta2',\n",
       " 33: 'wind_speed'}"
      ]
     },
     "execution_count": 353,
     "metadata": {},
     "output_type": "execute_result"
    }
   ],
   "source": [
    "df = pd.read_pickle('./process.pkl')\n",
    "cn = {v:k for v,k in enumerate(df.columns)}\n",
    "cn"
   ]
  },
  {
   "cell_type": "code",
   "execution_count": 354,
   "metadata": {},
   "outputs": [],
   "source": [
    "from sklearn.base import BaseEstimator, TransformerMixin\n",
    "class ColSelector(BaseEstimator, TransformerMixin):\n",
    "    def __init__(self, colNames):\n",
    "        self.colNames = colNames\n",
    "    def fit(self, X, y=None):\n",
    "        return self\n",
    "    def transform(self, X):\n",
    "        return X[self.colNames].values.astype(float)"
   ]
  },
  {
   "cell_type": "code",
   "execution_count": 355,
   "metadata": {},
   "outputs": [],
   "source": [
    "c=ColSelector(['depth','rudder','trim','bowWind_sine','bowWind_cos','heading_delta2','wind_speed'])\n",
    "x = c.transform(df)"
   ]
  },
  {
   "cell_type": "code",
   "execution_count": 356,
   "metadata": {},
   "outputs": [],
   "source": [
    "test = [142., 230., 228., 232., 192., 326., 176., 256., 328., 270.]\n",
    "        \n",
    "df_test = df[df.trip.isin(test)]\n",
    "df      = df[~df.trip.isin(test)]\n",
    "\n",
    "gkf = model_selection.GroupKFold(4)\n",
    "g = list(gkf.split(X=df.trip,groups=df.trip))"
   ]
  },
  {
   "cell_type": "code",
   "execution_count": 408,
   "metadata": {},
   "outputs": [],
   "source": [
    "cols = ['wind_speed','bowWind_cos','bowWind_sine','current',\n",
    "        'depth','rudder','trim','heading_delta2', \n",
    "        cn[10]\n",
    "       ]\n",
    "\n",
    "cols=[cn[9]]\n",
    "\n",
    "power = [ ('power',ColSelector(cols)),\n",
    "          ('normalize',preprocessing.StandardScaler()),\n",
    "          ('fit',linear_model.LinearRegression())\n",
    "        ]\n",
    "\n",
    "p = pipeline.Pipeline(steps=power)\n"
   ]
  },
  {
   "cell_type": "code",
   "execution_count": 409,
   "metadata": {},
   "outputs": [],
   "source": [
    "p_grid = [ {'fit':[linear_model.LinearRegression(),\n",
    "                   \n",
    "                  ],\n",
    "               }\n",
    "             ]\n",
    "\n",
    "\n",
    "\n",
    "\n",
    "xvalid = model_selection.GridSearchCV(p,p_grid,cv=g)\n",
    "\n",
    "xvalid = xvalid.fit(df, df[cn[1]].values)\n"
   ]
  },
  {
   "cell_type": "code",
   "execution_count": 410,
   "metadata": {},
   "outputs": [
    {
     "data": {
      "text/plain": [
       "0.9769124507124793"
      ]
     },
     "execution_count": 410,
     "metadata": {},
     "output_type": "execute_result"
    }
   ],
   "source": [
    "e = xvalid.best_estimator_\n",
    "e = e.fit(df, df[cn[1]].values)\n",
    "\n",
    "y_pred = e.predict(df_test)\n",
    "e.score(df_test,df_test[cn[1]])"
   ]
  },
  {
   "cell_type": "code",
   "execution_count": 411,
   "metadata": {},
   "outputs": [
    {
     "data": {
      "image/png": "[encoded data removed]",
      "text/plain": [
       "<Figure size 432x288 with 1 Axes>"
      ]
     },
     "metadata": {},
     "output_type": "display_data"
    }
   ],
   "source": [
    "plt.plot(df_test[cn[1]].values, y_pred, 'o')\n",
    "plt.plot(np.linspace(0,50,2),np.linspace(0,50,2),'r')\n",
    "plt.ylabel('Predicted Fuel Consumption')\n",
    "plt.xlabel('True Fuel Consumption')\n",
    "plt.savefig('/Users/frjo6001/Desktop/fig.pdf',format='pdf')"
   ]
  },
  {
   "cell_type": "code",
   "execution_count": 405,
   "metadata": {},
   "outputs": [],
   "source": [
    "v=model_selection.cross_val_score(e,df_test,df_test[cn[1]],cv=8)"
   ]
  },
  {
   "cell_type": "code",
   "execution_count": 399,
   "metadata": {},
   "outputs": [
    {
     "data": {
      "text/plain": [
       "(0.9932570669468401, 0.007508684383549341)"
      ]
     },
     "execution_count": 399,
     "metadata": {},
     "output_type": "execute_result"
    }
   ],
   "source": [
    "v.mean(), v.std()"
   ]
  },
  {
   "cell_type": "code",
   "execution_count": 400,
   "metadata": {},
   "outputs": [
    {
     "data": {
      "text/plain": [
       "[<matplotlib.lines.Line2D at 0x1265bd0f0>]"
      ]
     },
     "execution_count": 400,
     "metadata": {},
     "output_type": "execute_result"
    },
    {
     "data": {
      "image/png": "[encoded data removed]",
      "text/plain": [
       "<Figure size 432x288 with 1 Axes>"
      ]
     },
     "metadata": {},
     "output_type": "display_data"
    }
   ],
   "source": [
    "plt.plot(df[df.trip.isin([188])][cn[1]].values)"
   ]
  },
  {
   "cell_type": "code",
   "execution_count": 366,
   "metadata": {},
   "outputs": [
    {
     "data": {
      "text/plain": [
       "array([258., 168.,  12., 178., 276., 348., 264., 206.,  22., 302.])"
      ]
     },
     "execution_count": 366,
     "metadata": {},
     "output_type": "execute_result"
    }
   ],
   "source": [
    "np.random.choice(df.trip.unique(),10,replace=False)"
   ]
  },
  {
   "cell_type": "code",
   "execution_count": 367,
   "metadata": {},
   "outputs": [
    {
     "data": {
      "text/plain": [
       "5.4"
      ]
     },
     "execution_count": 367,
     "metadata": {},
     "output_type": "execute_result"
    }
   ],
   "source": [
    ".1*df.trip.unique().shape[0]"
   ]
  },
  {
   "cell_type": "code",
   "execution_count": 391,
   "metadata": {},
   "outputs": [],
   "source": [
    "s1 = set(df.iloc[g[0][0]].trip.unique())\n",
    "s2 = set(df.iloc[g[0][1]].trip.unique())"
   ]
  },
  {
   "cell_type": "code",
   "execution_count": 393,
   "metadata": {},
   "outputs": [
    {
     "name": "stderr",
     "output_type": "stream",
     "text": [
      "/Users/frjo6001/.pyenv/versions/3.6.5/lib/python3.6/site-packages/sklearn/utils/deprecation.py:122: FutureWarning: You are accessing a training score ('split0_train_score'), which will not be available by default any more in 0.21. If you need training scores, please set return_train_score=True\n",
      "  warnings.warn(*warn_args, **warn_kwargs)\n",
      "/Users/frjo6001/.pyenv/versions/3.6.5/lib/python3.6/site-packages/sklearn/utils/deprecation.py:122: FutureWarning: You are accessing a training score ('split1_train_score'), which will not be available by default any more in 0.21. If you need training scores, please set return_train_score=True\n",
      "  warnings.warn(*warn_args, **warn_kwargs)\n",
      "/Users/frjo6001/.pyenv/versions/3.6.5/lib/python3.6/site-packages/sklearn/utils/deprecation.py:122: FutureWarning: You are accessing a training score ('split2_train_score'), which will not be available by default any more in 0.21. If you need training scores, please set return_train_score=True\n",
      "  warnings.warn(*warn_args, **warn_kwargs)\n",
      "/Users/frjo6001/.pyenv/versions/3.6.5/lib/python3.6/site-packages/sklearn/utils/deprecation.py:122: FutureWarning: You are accessing a training score ('split3_train_score'), which will not be available by default any more in 0.21. If you need training scores, please set return_train_score=True\n",
      "  warnings.warn(*warn_args, **warn_kwargs)\n",
      "/Users/frjo6001/.pyenv/versions/3.6.5/lib/python3.6/site-packages/sklearn/utils/deprecation.py:122: FutureWarning: You are accessing a training score ('mean_train_score'), which will not be available by default any more in 0.21. If you need training scores, please set return_train_score=True\n",
      "  warnings.warn(*warn_args, **warn_kwargs)\n",
      "/Users/frjo6001/.pyenv/versions/3.6.5/lib/python3.6/site-packages/sklearn/utils/deprecation.py:122: FutureWarning: You are accessing a training score ('std_train_score'), which will not be available by default any more in 0.21. If you need training scores, please set return_train_score=True\n",
      "  warnings.warn(*warn_args, **warn_kwargs)\n"
     ]
    },
    {
     "data": {
      "text/plain": [
       "{'mean_fit_time': array([0.00431716, 0.03467739]),\n",
       " 'std_fit_time': array([0.00087749, 0.00171429]),\n",
       " 'mean_score_time': array([0.00117034, 0.00140077]),\n",
       " 'std_score_time': array([6.07149600e-05, 3.76846095e-05]),\n",
       " 'param_fit': masked_array(data=[LinearRegression(copy_X=True, fit_intercept=True, n_jobs=1, normalize=False),\n",
       "                    DecisionTreeRegressor(criterion='mse', max_depth=None, max_features=None,\n",
       "            max_leaf_nodes=None, min_impurity_decrease=0.0,\n",
       "            min_impurity_split=None, min_samples_leaf=1,\n",
       "            min_samples_split=2, min_weight_fraction_leaf=0.0,\n",
       "            presort=False, random_state=None, splitter='best')],\n",
       "              mask=[False, False],\n",
       "        fill_value='?',\n",
       "             dtype=object),\n",
       " 'params': [{'fit': LinearRegression(copy_X=True, fit_intercept=True, n_jobs=1, normalize=False)},\n",
       "  {'fit': DecisionTreeRegressor(criterion='mse', max_depth=None, max_features=None,\n",
       "              max_leaf_nodes=None, min_impurity_decrease=0.0,\n",
       "              min_impurity_split=None, min_samples_leaf=1,\n",
       "              min_samples_split=2, min_weight_fraction_leaf=0.0,\n",
       "              presort=False, random_state=None, splitter='best')}],\n",
       " 'split0_test_score': array([0.99503678, 0.99173894]),\n",
       " 'split1_test_score': array([0.89440963, 0.94888045]),\n",
       " 'split2_test_score': array([0.99415659, 0.99537912]),\n",
       " 'split3_test_score': array([0.99250812, 0.97716353]),\n",
       " 'mean_test_score': array([0.96900417, 0.97828598]),\n",
       " 'std_test_score': array([0.0431044 , 0.01830376]),\n",
       " 'rank_test_score': array([2, 1], dtype=int32),\n",
       " 'split0_train_score': array([0.97317111, 1.        ]),\n",
       " 'split1_train_score': array([0.99746914, 1.        ]),\n",
       " 'split2_train_score': array([0.97291609, 1.        ]),\n",
       " 'split3_train_score': array([0.97453697, 1.        ]),\n",
       " 'mean_train_score': array([0.97952333, 1.        ]),\n",
       " 'std_train_score': array([1.03793339e-02, 9.96992771e-13])}"
      ]
     },
     "execution_count": 393,
     "metadata": {},
     "output_type": "execute_result"
    }
   ],
   "source": [
    "xvalid.cv_results_"
   ]
  },
  {
   "cell_type": "code",
   "execution_count": 394,
   "metadata": {},
   "outputs": [
    {
     "data": {
      "text/plain": [
       "Pipeline(memory=None,\n",
       "     steps=[('power', ColSelector(colNames=['wind_speed', 'bowWind_cos', 'bowWind_sine', 'current', 'depth', 'rudder', 'trim', 'heading_delta2', 'Shaft Power (kW)'])), ('normalize', StandardScaler(copy=True, with_mean=True, with_std=True)), ('fit', DecisionTreeRegressor(criterion='mse', max_depth=None, m...lit=2, min_weight_fraction_leaf=0.0,\n",
       "           presort=False, random_state=None, splitter='best'))])"
      ]
     },
     "execution_count": 394,
     "metadata": {},
     "output_type": "execute_result"
    }
   ],
   "source": [
    "e"
   ]
  },
  {
   "cell_type": "code",
   "execution_count": null,
   "metadata": {},
   "outputs": [],
   "source": []
  }
 ],
 "metadata": {
  "kernelspec": {
   "display_name": "Python 3",
   "language": "python",
   "name": "python3"
  },
  "language_info": {
   "codemirror_mode": {
    "name": "ipython",
    "version": 3
   },
   "file_extension": ".py",
   "mimetype": "text/x-python",
   "name": "python",
   "nbconvert_exporter": "python",
   "pygments_lexer": "ipython3",
   "version": "3.6.5"
  }
 },
 "nbformat": 4,
 "nbformat_minor": 2
}
