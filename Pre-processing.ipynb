{
 "cells": [
  {
   "cell_type": "code",
   "execution_count": 1,
   "metadata": {},
   "outputs": [],
   "source": [
    "%matplotlib inline\n",
    "\n",
    "import pandas as pd\n",
    "import numpy as np\n",
    "import matplotlib.pyplot as plt"
   ]
  },
  {
   "cell_type": "code",
   "execution_count": 2,
   "metadata": {},
   "outputs": [],
   "source": [
    "df = pd.read_csv('./data/cheyenne-Aug-6.csv');\n",
    "\n",
    "df['datetime']= pd.to_datetime(df.Time, unit='s').values\n",
    "df = df.sort_values(by='Time')\n",
    "\n",
    "c = df.Time.rolling(window=2).apply(lambda x: (x[1]-x[0])>3600.0, raw=True ).fillna(0)\n",
    "df['contig'] = np.cumsum(c)\n",
    "\n",
    "cn = {v:k for v,k in enumerate(df.columns)}\n",
    "\n",
    "df[cn[4]]  = df[cn[4]].replace(to_replace=0, value=np.nan)\n",
    "df[cn[5]]  = df[cn[5]].replace(to_replace=0, value=np.nan)\n",
    "df[cn[8]] = df[cn[8]].replace(to_replace=0, value=np.nan)\n",
    "df[cn[9]] = df[cn[9]].replace(to_replace=0, value=np.nan)\n",
    "df[cn[10]] = df[cn[10]].replace(to_replace=0, value=np.nan)\n",
    "df[cn[17]] = df[cn[17]].replace(to_replace=0, value=np.nan).interpolate()\n",
    "df[cn[19]] = df[cn[19]].replace(to_replace=0, value=np.nan).interpolate()"
   ]
  },
  {
   "cell_type": "markdown",
   "metadata": {},
   "source": [
    "Data consists of two nearly contigious monitoring periords spanning 388 and 4 days respectivly. "
   ]
  },
  {
   "cell_type": "code",
   "execution_count": 3,
   "metadata": {},
   "outputs": [
    {
     "data": {
      "text/plain": [
       "{0: 'Time',\n",
       " 1: 'Main Engine Fuel Consumption (MT/day)',\n",
       " 2: 'Main Engine Using HFO (bool)',\n",
       " 3: 'Main Engine Using MGO (bool)',\n",
       " 4: 'Draft Forward (meters)',\n",
       " 5: 'Draft Aft (meters)',\n",
       " 6: 'Draft Mid-1 (meters)',\n",
       " 7: 'Draft Mid-2 (meters)',\n",
       " 8: 'Shaft Speed (RPM)',\n",
       " 9: 'Shaft Torque (kNm)',\n",
       " 10: 'Shaft Power (kW)',\n",
       " 11: 'Speed Over Ground (knots)',\n",
       " 12: 'Speed Through Water (knots)',\n",
       " 13: 'Heading (degrees)',\n",
       " 14: 'Rudder Angle (degrees)',\n",
       " 15: 'Weather Service Apparent Wind Speed (knots)',\n",
       " 16: 'Weather Service Apparent Wind Direction (degrees from bow)',\n",
       " 17: 'Weather Service True Wind Speed (knots)',\n",
       " 18: 'Weather Service True Wind Direction (degrees from north)',\n",
       " 19: 'Weather Service Temperature (celsius)',\n",
       " 20: 'Water Depth (meters)',\n",
       " 21: 'datetime',\n",
       " 22: 'contig'}"
      ]
     },
     "execution_count": 3,
     "metadata": {},
     "output_type": "execute_result"
    }
   ],
   "source": [
    "cn"
   ]
  },
  {
   "cell_type": "code",
   "execution_count": 4,
   "metadata": {},
   "outputs": [],
   "source": [
    "df['trip'] = (df[cn[1]]==0) \n",
    "df['trip'] = np.cumsum(df.trip.rolling(window=2,center=False).apply(lambda x: x[1]!=x[0], raw=True))\n",
    "\n",
    "h = df.groupby(['trip','contig'])[cn[13]].rolling(window=2,center=False).apply(lambda x: x[1]-x[0], raw=True).reset_index()\n",
    "h = h.rename({'level_2':'index', cn[13]:'heading_delta'},axis=1).set_index('index').drop(['trip','contig'],axis=1)\n",
    "df = df.join(h)\n",
    "\n"
   ]
  },
  {
   "cell_type": "code",
   "execution_count": null,
   "metadata": {},
   "outputs": [],
   "source": []
  },
  {
   "cell_type": "code",
   "execution_count": 5,
   "metadata": {},
   "outputs": [],
   "source": [
    "def normAngle(angle):\n",
    "    if angle < -180: angle += 360\n",
    "    elif angle > 180: angle -= 360\n",
    "    return angle\n",
    "\n",
    "def theLen(x): return len(x)\n",
    "def totalDurr(x): return max(x) - min(x)\n",
    "def active(x): return np.mean(x)>0\n",
    "\n",
    "df.heading_delta = df.heading_delta.apply(normAngle).fillna(0)\n",
    "\n",
    "s = df.groupby('trip').agg({cn[1]: active,\n",
    "                            cn[21]: [totalDurr , theLen, min, max],\n",
    "                              \n",
    "                             }).rename({'min':'startTime', 'max':'endTime'},axis=1)\n",
    "s.columns = s.columns.droplevel(0)\n",
    "s = s.reset_index()\n",
    "\n",
    "s = s[s.active & s.totalDurr.apply(lambda x: x.total_seconds()>3*60**2)].drop(['active','theLen'],axis=1)\n",
    "\n",
    "s=s.drop('totalDurr',axis=1)\n",
    "\n",
    "df2 = df.merge(s, on='trip', how='inner')\n",
    "df2 = df2[(df2.datetime!=df2.startTime) & (df2.datetime!=df2.endTime)]\n",
    "df2 = df2.drop(['startTime','endTime'],axis=1)\n",
    "\n",
    "df2[cn[4]]=df2.groupby(\"trip\").transform(lambda x: x.fillna(x.mean()))[cn[4]]\n",
    "df2[cn[5]]=df2.groupby(\"trip\").transform(lambda x: x.fillna(x.mean()))[cn[5]]\n",
    "\n"
   ]
  },
  {
   "cell_type": "code",
   "execution_count": 6,
   "metadata": {},
   "outputs": [],
   "source": [
    "df2['trim'] = df2.apply(lambda x: x[cn[4]]-x[cn[5]],axis=1)\n",
    "df2['rudder'] = df2[cn[14]].apply(lambda x: np.sin(np.deg2rad(x)) )\n",
    "df2['depth']  = df2[cn[20]].replace(to_replace=0, value=df2[cn[20]].max())\n",
    "df2['current'] = (df2[cn[14]].apply(normAngle)/df2.heading_delta.replace(0,1)).values\n",
    "df2['bowWind_sine'] = np.sin(np.deg2rad((df2[cn[18]]- df2[cn[13]]).apply(normAngle)))\n",
    "df2['bowWind_cos'] = np.cos(np.deg2rad((df2[cn[18]]- df2[cn[13]]).apply(normAngle)))\n",
    "df2.heading_delta = np.sin(np.deg2rad(df2.heading_delta))\n",
    "df2['wind_speed'] = df2[cn[17]]\n"
   ]
  },
  {
   "cell_type": "code",
   "execution_count": 9,
   "metadata": {},
   "outputs": [
    {
     "name": "stdout",
     "output_type": "stream",
     "text": [
      "0.9899431344210847\n"
     ]
    },
    {
     "name": "stderr",
     "output_type": "stream",
     "text": [
      "/Users/frjo6001/.pyenv/versions/3.6.5/lib/python3.6/site-packages/sklearn/linear_model/base.py:509: RuntimeWarning: internal gelsd driver lwork query error, required iwork dimension not returned. This is likely the result of LAPACK bug 0038, fixed in LAPACK 3.2.2 (released July 21, 2010). Falling back to 'gelss' driver.\n",
      "  linalg.lstsq(X, y)\n"
     ]
    }
   ],
   "source": [
    "from sklearn.model_selection import train_test_split\n",
    "import sklearn.linear_model\n",
    "\n",
    "lr = sklearn.linear_model.LinearRegression()\n",
    "n = [cn[v] for v in range(8,11,1)]\n",
    "\n",
    "D = df2[df2[n].isna().sum(1)<1][n].values\n",
    "X=D[:,0:2]\n",
    "y=D[:,-1]\n",
    "\n",
    "X_train, X_test, y_train, y_test = train_test_split(X,y,test_size=.2)\n",
    "lr.fit(X_train, y_train)\n",
    "score = lr.score(X_test,y_test)\n",
    "print(score)\n",
    "\n",
    "X_unk  = df2[df2[cn[10]].isna()][[cn[8],cn[9]]].values\n",
    "y_pred = lr.predict(X_unk)\n",
    "\n",
    "\n",
    "df2.iloc[df2[cn[10]].isna().values, 10] = np.atleast_2d(y_pred).T\n",
    "\n",
    "df2 = df2[df2.trip!=0]"
   ]
  },
  {
   "cell_type": "code",
   "execution_count": 26,
   "metadata": {},
   "outputs": [],
   "source": [
    "df2.to_pickle('process.pkl')"
   ]
  },
  {
   "cell_type": "code",
   "execution_count": null,
   "metadata": {},
   "outputs": [],
   "source": [
    "\n"
   ]
  },
  {
   "cell_type": "code",
   "execution_count": null,
   "metadata": {},
   "outputs": [],
   "source": []
  },
  {
   "cell_type": "code",
   "execution_count": null,
   "metadata": {},
   "outputs": [],
   "source": []
  },
  {
   "cell_type": "code",
   "execution_count": null,
   "metadata": {},
   "outputs": [],
   "source": []
  },
  {
   "cell_type": "code",
   "execution_count": null,
   "metadata": {},
   "outputs": [],
   "source": []
  },
  {
   "cell_type": "code",
   "execution_count": null,
   "metadata": {},
   "outputs": [],
   "source": []
  }
 ],
 "metadata": {
  "kernelspec": {
   "display_name": "Python 3",
   "language": "python",
   "name": "python3"
  },
  "language_info": {
   "codemirror_mode": {
    "name": "ipython",
    "version": 3
   },
   "file_extension": ".py",
   "mimetype": "text/x-python",
   "name": "python",
   "nbconvert_exporter": "python",
   "pygments_lexer": "ipython3",
   "version": "3.6.5"
  }
 },
 "nbformat": 4,
 "nbformat_minor": 2
}
